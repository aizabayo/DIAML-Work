{
 "cells": [
  {
   "cell_type": "code",
   "execution_count": null,
   "id": "36e4741a",
   "metadata": {},
   "outputs": [],
   "source": [
    "import pandas as pd\n",
    "from sklearn.impute import SimpleImputer\n",
    "from sklearn.ensemble import RandomForestClassifier\n",
    "from sklearn.model_selection import train_test_split, GridSearchCV\n",
    "from sklearn.preprocessing import LabelEncoder\n",
    "import numpy as np\n",
    "import random as rd\n"
   ]
  },
  {
   "cell_type": "markdown",
   "id": "a727d18e",
   "metadata": {},
   "source": [
    "#### Loading Titanic Dataset (Train and Test) "
   ]
  },
  {
   "cell_type": "code",
   "execution_count": null,
   "id": "8ab84945",
   "metadata": {},
   "outputs": [],
   "source": [
    "train_df = pd.read_csv('train.csv')  # Loading the train dataset\n",
    "test_df = pd.read_csv('test.csv')    # Loading the test dataset"
   ]
  },
  {
   "cell_type": "code",
   "execution_count": null,
   "id": "29981955",
   "metadata": {},
   "outputs": [],
   "source": [
    "train_df"
   ]
  },
  {
   "cell_type": "code",
   "execution_count": null,
   "id": "830dab65",
   "metadata": {},
   "outputs": [],
   "source": [
    "test_df"
   ]
  },
  {
   "cell_type": "code",
   "execution_count": null,
   "id": "c66cf159",
   "metadata": {},
   "outputs": [],
   "source": [
    "train_df.isnull().sum()  # check Train dataframe for missing values"
   ]
  },
  {
   "cell_type": "code",
   "execution_count": null,
   "id": "d9fdc488",
   "metadata": {},
   "outputs": [],
   "source": [
    "test_df.isnull().sum()    # chech Test dataframe for missing values"
   ]
  },
  {
   "cell_type": "markdown",
   "id": "f00e2f2f",
   "metadata": {},
   "source": [
    "#### Handle missing Value"
   ]
  },
  {
   "cell_type": "code",
   "execution_count": null,
   "id": "d031bb04",
   "metadata": {},
   "outputs": [],
   "source": [
    "imputer = SimpleImputer(strategy='most_frequent')\n",
    "train_df['Age'] = imputer.fit_transform(train_df[['Age']])\n",
    "test_df['Age'] = imputer.transform(test_df[['Age']])\n",
    "train_df = train_df.drop(['Name', 'Ticket'], axis=1)\n",
    "test_df = test_df.drop(['Name', 'Ticket'], axis=1)\n",
    "\n",
    "cabin_train = ['B96', 'B98', 'G6', 'C23', 'C25', 'C27']\n",
    "rd.shuffle(cabin_train)  # shuffle the cabin_train list\n",
    "train_df['Cabin'] = train_df['Cabin'].apply(lambda x: rd.choice(cabin_train) if pd.isna(x) else x)\n",
    "\n",
    "cabin_test = ['B57', 'B59', 'B63', 'C66', 'B45', 'C89', 'C55', 'C57', 'A32']\n",
    "rd.shuffle(cabin_test)  # shuffle the cabin_test list\n",
    "test_df['Cabin'] = test_df['Cabin'].apply(lambda x: rd.choice(cabin_test) if pd.isna(x) else x)\n",
    "train_df"
   ]
  },
  {
   "cell_type": "markdown",
   "id": "e12b4791",
   "metadata": {},
   "source": [
    "####  Pre-processing"
   ]
  },
  {
   "cell_type": "code",
   "execution_count": null,
   "id": "995d7f0e",
   "metadata": {},
   "outputs": [],
   "source": [
    "label_encoder = LabelEncoder()\n",
    "train_df['Sex'] = label_encoder.fit_transform(train_df['Sex'])\n",
    "test_df['Sex'] = label_encoder.transform(test_df['Sex'])\n",
    "train_df['Cabin'] = label_encoder.fit_transform(train_df['Cabin'])\n",
    "test_df['Cabin'] = label_encoder.fit_transform(test_df['Cabin'])\n",
    "train_df['Embarked'] = label_encoder.fit_transform(train_df['Embarked'])\n",
    "test_df['Embarked'] = label_encoder.fit_transform(test_df['Embarked'])"
   ]
  },
  {
   "cell_type": "code",
   "execution_count": null,
   "id": "5750f27b",
   "metadata": {},
   "outputs": [],
   "source": [
    "X = train_df.drop(['Survived'], axis=1)\n",
    "y = train_df['Survived']\n",
    "display(X)\n",
    "display(y)"
   ]
  },
  {
   "cell_type": "code",
   "execution_count": null,
   "id": "a5939696",
   "metadata": {},
   "outputs": [],
   "source": [
    "def Features_select(train_df, threshold):\n",
    "    Feature_selected = set()                   # set to store selected features\n",
    "    Corr_df = X.corr()\n",
    "    for i in range(len(Corr_df.columns)):     #  loop through the columns of the dataframe\n",
    "        for n in range(i):\n",
    "            if abs(Corr_df.iloc[i, n]) > threshold:\n",
    "                Feature = Corr_df.columns[i]\n",
    "                Feature_selected.add(Feature)\n",
    "    return  Feature_selected\n",
    "\n",
    "\n",
    "Feature = Features_select(X, 0.5)\n",
    "X = X.drop(Feature, axis=1)\n",
    "x_test = test_df.drop(Feature, axis=1)\n",
    "\n",
    "# Split the data into training and validation sets\n",
    "X_train, X_val, y_train, y_val = train_test_split(X, y, test_size=0.2, random_state=42)\n",
    "\n",
    "# Hyperparameter tuning using GridSearchCV\n",
    "param_grid = {\n",
    "    'n_estimators': [50, 100, 200],\n",
    "    'max_depth': [None, 10, 20],\n",
    "    'min_samples_split': [2, 5, 10],\n",
    "    'min_samples_leaf': [1, 2, 4]\n",
    "}\n",
    "\n",
    "rf_clf = RandomForestClassifier(random_state=42)\n",
    "\n",
    "grid_search = GridSearchCV(estimator=rf_clf, param_grid=param_grid, cv=5, scoring='accuracy')\n",
    "grid_search.fit(X_train, y_train)\n",
    "\n",
    "best_params = grid_search.best_params_\n",
    "print(\"Best Hyperparameters for RandomForestClassifier:\", best_params)\n",
    "\n",
    "best_rf_clf = RandomForestClassifier(random_state=42, **best_params)\n",
    "best_rf_clf.fit(X_train, y_train)\n",
    "\n",
    "# Make predictions on the validation set\n",
    "y_pred = best_rf_clf.predict(X_val)\n",
    "\n",
    "# Evaluate the model\n",
    "accuracy = np.mean(y_pred == y_val)\n",
    "print(f'Accuracy performance for RandomForestClassifier {accuracy}')\n",
    "\n",
    "# Make predictions on the test set\n",
    "test_predictions = best_rf_clf.predict(x_test)\n",
    "\n",
    "# Create a CSV file of survival predictions\n",
    "predicted_survival = pd.DataFrame({'PassengerId': test_df['PassengerId'], 'Survived': test_predictions})\n",
    "predicted_survival.to_csv('Survival_aizabayo.csv', index=False)"
   ]
  },
  {
   "cell_type": "code",
   "execution_count": null,
   "id": "69f6dfb6",
   "metadata": {},
   "outputs": [],
   "source": [
    "predicted_survival       # display the predicted survival in dataframe"
   ]
  },
  {
   "cell_type": "code",
   "execution_count": null,
   "id": "ca140474",
   "metadata": {},
   "outputs": [],
   "source": []
  }
 ],
 "metadata": {
  "kernelspec": {
   "display_name": "Python 3 (ipykernel)",
   "language": "python",
   "name": "python3"
  },
  "language_info": {
   "codemirror_mode": {
    "name": "ipython",
    "version": 3
   },
   "file_extension": ".py",
   "mimetype": "text/x-python",
   "name": "python",
   "nbconvert_exporter": "python",
   "pygments_lexer": "ipython3",
   "version": "3.11.4"
  }
 },
 "nbformat": 4,
 "nbformat_minor": 5
}
